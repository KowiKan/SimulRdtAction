{
 "cells": [
  {
   "cell_type": "code",
   "execution_count": 1,
   "metadata": {},
   "outputs": [],
   "source": [
    "%matplotlib widget\n",
    "import ipywidgets as widgets\n",
    "import matplotlib as mpl\n",
    "import matplotlib.pyplot as plt\n",
    "import numpy as np\n",
    "import pandas as pd\n"
   ]
  },
  {
   "cell_type": "code",
   "execution_count": 52,
   "metadata": {},
   "outputs": [
    {
     "data": {
      "application/vnd.jupyter.widget-view+json": {
       "model_id": "8020e6598f0342489f093ea77ad7a194",
       "version_major": 2,
       "version_minor": 0
      },
      "text/plain": [
       "HBox(children=(VBox(children=(IntText(value=1, description=\"Nombre d'actions\", layout=Layout(width='300px'), s…"
      ]
     },
     "metadata": {},
     "output_type": "display_data"
    }
   ],
   "source": [
    "def calc(start_Amount, end_Amount, div_Amount):\n",
    "    return end_Amount - start_Amount + div_Amount\n",
    "\n",
    "start_Amount = 1000\n",
    "end_Amount = 1100\n",
    "div_Amount = 10\n",
    "\n",
    "# create some control elements\n",
    "int_nb_stocks = widgets.IntText(value=1, description=\"Nombre d'actions\",style={'description_width': 'initial'},layout = widgets.Layout(width='300px'))\n",
    "int_start_price = widgets.IntText(value=start_Amount, description=\"Prix de l'action à l'achat\",style={'description_width': 'initial'},layout = widgets.Layout(width='300px'))\n",
    "int_end_price = widgets.IntText(value=end_Amount, description=\"Prix de l'action à la vente\",style={'description_width': 'initial'},layout = widgets.Layout(width='300px'))\n",
    "int_div = widgets.IntText(value=div_Amount, description=\"Montant du dividende perçu par action\",style={'description_width': 'initial'},layout = widgets.Layout(width='300px'))\n",
    "\n",
    "caption1 = widgets.Label(value='Vous avez gagné ')\n",
    "caption2 = widgets.Label(value='110 EUR pour 1,000.00 EUR investis')\n",
    "file = open(\"Logo KowiKan.png\", \"rb\")\n",
    "image = file.read()\n",
    "logo=widgets.Image(\n",
    "    value=image,\n",
    "    format='png',\n",
    "    width=300,\n",
    "    height=400,\n",
    ")\n",
    "\n",
    "# callback functions\n",
    "def update_nb_stocks(change):\n",
    "    PL=calc(change.new*int_start_price.value,change.new*int_end_price.value, change.new*int_div.value)\n",
    "    if PL>=0:\n",
    "        caption1.value='Vous avez gagné '\n",
    "    else:\n",
    "        caption1.value='Vous avez perdu '\n",
    "    caption2.value = \"{:,.2f}\".format(PL)  +' EUR pour ' + \"{:,.2f}\".format(change.new*start_Amount) +' EUR investis'\n",
    "\n",
    "def update_start_price(change):\n",
    "    PL=calc(int_nb_stocks.value*change.new,int_nb_stocks.value*int_end_price.value, int_nb_stocks.value*int_div.value)\n",
    "    if PL>=0:\n",
    "        caption1.value='Vous avez gagné '\n",
    "    else:\n",
    "        caption1.value='Vous avez perdu '\n",
    "    caption2.value = \"{:,.2f}\".format(PL)  +' EUR pour ' + \"{:,.2f}\".format(int_nb_stocks.value*change.new) +' EUR investis'\n",
    "    \n",
    "def update_end_price(change):\n",
    "    PL=calc(int_nb_stocks.value*int_start_price.value,int_nb_stocks.value*change.new, int_nb_stocks.value*int_div.value)\n",
    "    if PL>=0:\n",
    "        caption1.value='Vous avez gagné '\n",
    "    else:\n",
    "        caption1.value='Vous avez perdu '\n",
    "    caption2.value = \"{:,.2f}\".format(PL)  +' EUR pour ' + \"{:,.2f}\".format(int_nb_stocks.value*int_start_price.value) +' EUR investis'    \n",
    "\n",
    "def update_div(change):\n",
    "    PL=calc(int_nb_stocks.value*int_start_price.value,int_nb_stocks.value*int_end_price.value, int_nb_stocks.value*change.new)\n",
    "    if PL>=0:\n",
    "        caption1.value='Vous avez gagné '\n",
    "    else:\n",
    "        caption1.value='Vous avez perdu '\n",
    "    caption2.value = \"{:,.2f}\".format(PL)  +' EUR pour ' + \"{:,.2f}\".format(int_nb_stocks.value*int_start_price.value) +' EUR investis' \n",
    "   \n",
    "    \n",
    "# connect callbacks and traits\n",
    "int_nb_stocks.observe(update_nb_stocks,'value')\n",
    "int_start_price.observe(update_start_price,'value')\n",
    "int_end_price.observe(update_end_price,'value')\n",
    "int_div.observe(update_div,'value')\n",
    "\n",
    "\n",
    "control = widgets.VBox([\n",
    "            int_nb_stocks,\n",
    "            int_start_price,\n",
    "            int_end_price,\n",
    "            int_div,\n",
    "            caption1,\n",
    "            caption2,\n",
    "            logo\n",
    "          ])\n",
    "\n",
    "def make_box_layout():\n",
    "     return widgets.Layout(\n",
    "        border='solid 1px black',\n",
    "        align_items='center',\n",
    "        margin='0px 10px 10px 0px',\n",
    "        padding='5px 5px 5px 5px')\n",
    "\n",
    "control.layout = make_box_layout()\n",
    "\n",
    "\n",
    "\n",
    "\n",
    "widgets.HBox([control])\n"
   ]
  },
  {
   "cell_type": "code",
   "execution_count": null,
   "metadata": {},
   "outputs": [],
   "source": []
  },
  {
   "cell_type": "code",
   "execution_count": null,
   "metadata": {},
   "outputs": [],
   "source": []
  },
  {
   "cell_type": "code",
   "execution_count": null,
   "metadata": {},
   "outputs": [],
   "source": []
  },
  {
   "cell_type": "code",
   "execution_count": null,
   "metadata": {},
   "outputs": [],
   "source": []
  }
 ],
 "metadata": {
  "kernelspec": {
   "display_name": "Python 3 (ipykernel)",
   "language": "python",
   "name": "python3"
  },
  "language_info": {
   "codemirror_mode": {
    "name": "ipython",
    "version": 3
   },
   "file_extension": ".py",
   "mimetype": "text/x-python",
   "name": "python",
   "nbconvert_exporter": "python",
   "pygments_lexer": "ipython3",
   "version": "3.9.12"
  }
 },
 "nbformat": 4,
 "nbformat_minor": 4
}
